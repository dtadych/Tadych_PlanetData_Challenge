{
 "cells": [
  {
   "cell_type": "markdown",
   "metadata": {},
   "source": [
    "Type these lines into command line in case the environment.yml dows not work"
   ]
  },
  {
   "cell_type": "code",
   "execution_count": null,
   "metadata": {},
   "outputs": [
    {
     "ename": "",
     "evalue": "",
     "output_type": "error",
     "traceback": [
      "\u001b[1;31mRunning cells with 'c:\\Users\\det19\\Documents\\Repositories\\Tadych_PlanetData_Challenge\\.conda\\python.exe' requires the ipykernel package.\n",
      "\u001b[1;31mRun the following command to install 'ipykernel' into the Python environment. \n",
      "\u001b[1;31mCommand: 'conda install -p c:\\Users\\det19\\Documents\\Repositories\\Tadych_PlanetData_Challenge\\.conda ipykernel --update-deps --force-reinstall'"
     ]
    }
   ],
   "source": [
    "conda create --name planet_dc python=3.8\n",
    "conda activate planet_dc\n",
    "conda install -c conda-forge <package>"
   ]
  },
  {
   "cell_type": "markdown",
   "metadata": {},
   "source": [
    "These are the packages you'll need to install on the conda-forge channel:\n",
    "- numpy\n",
    "- matplotlib\n",
    "- planet\n",
    "- xarray\n",
    "- rioxarray\n",
    "- geopandas\n",
    "- requests\n",
    "\n",
    "As long as you install all of these on conda-forge, you shouldn't have any issues with dependencies."
   ]
  }
 ],
 "metadata": {
  "kernelspec": {
   "display_name": "base",
   "language": "python",
   "name": "python3"
  },
  "language_info": {
   "codemirror_mode": {
    "name": "ipython",
    "version": 3
   },
   "file_extension": ".py",
   "mimetype": "text/x-python",
   "name": "python",
   "nbconvert_exporter": "python",
   "pygments_lexer": "ipython3",
   "version": "3.8.18"
  },
  "orig_nbformat": 4
 },
 "nbformat": 4,
 "nbformat_minor": 2
}
