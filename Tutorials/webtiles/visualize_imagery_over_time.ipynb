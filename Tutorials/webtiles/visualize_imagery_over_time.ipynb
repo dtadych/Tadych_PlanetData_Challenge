{
 "cells": [
  {
   "cell_type": "markdown",
   "metadata": {},
   "source": [
    "# Visualize imagery over time \n",
    "In this notebook, we will show how to combine the [Data API](https://developers.planet.com/docs/apis/data/) and [Tiles Services API](https://developers.planet.com/docs/basemaps/tile-services/) to make a timelapse animation for a point of interest."
   ]
  },
  {
   "cell_type": "markdown",
   "metadata": {},
   "source": [
    "## Setup"
   ]
  },
  {
   "cell_type": "markdown",
   "metadata": {},
   "source": [
    "#### Import Packages"
   ]
  },
  {
   "cell_type": "code",
   "execution_count": null,
   "metadata": {},
   "outputs": [],
   "source": [
    "import json\n",
    "import os\n",
    "from datetime import datetime\n",
    "import mercantile\n",
    "from planet import Auth\n",
    "from planet import Session, DataClient, OrdersClient, data_filter\n",
    "import requests"
   ]
  },
  {
   "cell_type": "markdown",
   "metadata": {},
   "source": [
    "#### Set API Key\n",
    "Get your API key from [your Planet account info](https://www.planet.com/account/#/) and paste it below in place of `YOUR_KEY_HERE`"
   ]
  },
  {
   "cell_type": "code",
   "execution_count": null,
   "metadata": {},
   "outputs": [],
   "source": [
    "# if your Planet API Key is not set as an environment variable, you can paste it below\n",
    "if os.environ.get('PL_API_KEY', ''):\n",
    "    API_KEY = os.environ.get('PL_API_KEY', '')\n",
    "else:\n",
    "    API_KEY = 'PASTE_YOUR_API_KEY_HERE'\n",
    "\n",
    "client = Auth.from_key(API_KEY)\n",
    "\n",
    "# Setup the session\n",
    "session = requests.Session()\n",
    "\n",
    "# Authenticate\n",
    "session.auth = (API_KEY, \"\")"
   ]
  },
  {
   "cell_type": "markdown",
   "metadata": {},
   "source": [
    "## Data API Search\n",
    "In this next part, we will search for items that match a given date range, item_type, and location"
   ]
  },
  {
   "cell_type": "markdown",
   "metadata": {},
   "source": [
    "#### Data API Search"
   ]
  },
  {
   "cell_type": "markdown",
   "metadata": {},
   "source": [
    "First, we need to define our AOI for our search"
   ]
  },
  {
   "cell_type": "code",
   "execution_count": null,
   "metadata": {},
   "outputs": [],
   "source": [
    "# Convert coordinates to geojson geometry format\n",
    "def coords_to_geometry(lat, lon):\n",
    "    \"\"\"Given latitude and longitude floats, construct a geojson geometry dict\"\"\"\n",
    "    return {\n",
    "        \"type\": \"Point\",\n",
    "        \"coordinates\": [lon, lat]\n",
    "    }"
   ]
  },
  {
   "cell_type": "code",
   "execution_count": null,
   "metadata": {},
   "outputs": [],
   "source": [
    "# Make a geometry dictionary for coordinates in San Francisco\n",
    "\n",
    "geom = coords_to_geometry(37.77493, -122.41942)\n",
    "print(geom)"
   ]
  },
  {
   "cell_type": "code",
   "execution_count": null,
   "metadata": {},
   "outputs": [],
   "source": [
    "lon = geom['coordinates'][0]\n",
    "lat = geom['coordinates'][1]"
   ]
  },
  {
   "cell_type": "markdown",
   "metadata": {},
   "source": [
    "Now let's define the other filters we want to use for our search:"
   ]
  },
  {
   "cell_type": "code",
   "execution_count": null,
   "metadata": {},
   "outputs": [],
   "source": [
    "# Define the filters we'll use to find our data\n",
    "\n",
    "item_types = [\"PSScene\"]\n",
    "\n",
    "geom_filter = data_filter.geometry_filter(geom)\n",
    "date_range_filter = data_filter.date_range_filter(\"acquired\", datetime(month=1, day=1, year=2019), datetime(month=10, day=1, year=2019))\n",
    "cloud_cover_filter = data_filter.range_filter('cloud_cover', None, 0.1)\n",
    "\n",
    "combined_filter = data_filter.and_filter([geom_filter, date_range_filter, cloud_cover_filter])"
   ]
  },
  {
   "cell_type": "markdown",
   "metadata": {},
   "source": [
    "Now we can run the search and view our item ids that result:"
   ]
  },
  {
   "cell_type": "code",
   "execution_count": null,
   "metadata": {},
   "outputs": [],
   "source": [
    "async with Session() as sess:\n",
    "    cl = DataClient(sess)\n",
    "    items = await cl.search(name='imagery_over_time',search_filter=combined_filter, item_types=item_types)\n",
    "    item_list = [i async for i in items]"
   ]
  },
  {
   "cell_type": "code",
   "execution_count": null,
   "metadata": {},
   "outputs": [],
   "source": [
    "for item in item_list:\n",
    "    print(item['id'])"
   ]
  },
  {
   "cell_type": "markdown",
   "metadata": {},
   "source": [
    "## Getting Webtiles\n",
    "Although we could download images for the item_ids above, we can get a nice visual preview through [webtiles](https://developers.planet.com/docs/basemaps/tile-services/). These are 256x256 PNG images on a spatial grid, often used for [web maps](https://en.wikipedia.org/wiki/Tiled_web_map).\n"
   ]
  },
  {
   "cell_type": "markdown",
   "metadata": {},
   "source": [
    "#### Generating tile urls\n",
    "We want to get urls for many tiles over time for a given latitude, longitude, and zoom level.\n",
    "\n",
    "Let's re-use some of the item_ids we found through the Data API."
   ]
  },
  {
   "cell_type": "code",
   "execution_count": null,
   "metadata": {},
   "outputs": [],
   "source": [
    "def get_tile_urls(lon, lat, item_list, limit=5, zoom=15,):\n",
    "    \"\"\"Get webtile urls for given coordinates, zoom, and matching filters.\n",
    "    Args:\n",
    "        lat: latitude float\n",
    "        lon: longitude float\n",
    "        zoom: zoom level int (usually between 1 and 15)\n",
    "        limit: max number of ids to return\n",
    "    Returns:\n",
    "        tiles: json response and links to view tiles\n",
    "    \"\"\"\n",
    "    item_list = item_list[:limit]\n",
    "    tile = mercantile.tile(lon, lat, zoom)\n",
    "    tile_url_template = 'https://tiles2.planet.com/data/v1/{item_type}/{item_id}/{z}/{x}/{y}.png?api_key={api_key}'\n",
    "    return [tile_url_template.format(item_type=item_types, item_id=i, x=tile.x, y=tile.y, z=zoom, api_key=API_KEY) for i in item_list]\n",
    "\n",
    "\n"
   ]
  },
  {
   "cell_type": "markdown",
   "metadata": {},
   "source": [
    "#### Testing tile urls\n",
    "Click the links below to see tile images in your browser"
   ]
  },
  {
   "cell_type": "code",
   "execution_count": null,
   "metadata": {},
   "outputs": [],
   "source": [
    "tile_urls = get_tile_urls(lon, lat, item_list, limit=5, zoom=15)\n",
    "for url in tile_urls:\n",
    "    print(url)\n",
    "    print()"
   ]
  },
  {
   "cell_type": "markdown",
   "metadata": {},
   "source": [
    "#### Display a tile"
   ]
  },
  {
   "cell_type": "code",
   "execution_count": null,
   "metadata": {},
   "outputs": [],
   "source": [
    "from IPython.display import Image\n",
    "resp = requests.get(tile_urls[0])\n",
    "Image(resp.content)"
   ]
  },
  {
   "cell_type": "markdown",
   "metadata": {},
   "source": [
    "#### Animate tiles over time"
   ]
  },
  {
   "cell_type": "code",
   "execution_count": null,
   "metadata": {},
   "outputs": [],
   "source": [
    "%matplotlib inline\n",
    "from IPython.display import HTML\n",
    "import random\n",
    "import time\n",
    "def animate(urls, delay=1.0, loops=1):\n",
    "    \"\"\"Display an animated loop of images\n",
    "    Args:\n",
    "        urls: list of image url strings\n",
    "        delay: how long in seconds to display each image\n",
    "        loops: how many times to repeat the image sequence\n",
    "    \"\"\"\n",
    "    disp_id = str(random.random())\n",
    "    display(\"placeholder\", display_id=disp_id)\n",
    "    for loop in range(loops):\n",
    "        for frame_url in urls:\n",
    "            htmlDisplay = f'<img src=\"{frame_url}\" class=\"mySlides\">'\n",
    "            display(HTML(htmlDisplay), display_id=disp_id, update=True)\n",
    "            time.sleep(delay)"
   ]
  },
  {
   "cell_type": "code",
   "execution_count": null,
   "metadata": {},
   "outputs": [],
   "source": [
    "animate(tile_urls, delay=0.5, loops=3)"
   ]
  },
  {
   "cell_type": "code",
   "execution_count": null,
   "metadata": {},
   "outputs": [],
   "source": [
    "tile_urls = get_tile_urls(37.77493, -122.41942, item_list, limit=100)"
   ]
  },
  {
   "cell_type": "code",
   "execution_count": null,
   "metadata": {},
   "outputs": [],
   "source": [
    "animate(tile_urls, delay=1, loops=3)"
   ]
  }
 ],
 "metadata": {
  "kernelspec": {
   "display_name": "Python 3 (ipykernel)",
   "language": "python",
   "name": "python3"
  },
  "language_info": {
   "codemirror_mode": {
    "name": "ipython",
    "version": 3
   },
   "file_extension": ".py",
   "mimetype": "text/x-python",
   "name": "python",
   "nbconvert_exporter": "python",
   "pygments_lexer": "ipython3",
   "version": "3.8.13"
  }
 },
 "nbformat": 4,
 "nbformat_minor": 2
}
