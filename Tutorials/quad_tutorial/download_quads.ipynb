{
 "cells": [
  {
   "cell_type": "markdown",
   "metadata": {},
   "source": [
    "# Download Quads from a Mosiac Using Basemaps API\n",
    "---\n",
    "\n",
    "## Overview ##\n",
    "---\n",
    "The purpose of this tutorial is to provide a user-friendly way to use Planet's Basemaps API to download all quads to a folder in their directory."
   ]
  },
  {
   "cell_type": "markdown",
   "metadata": {},
   "source": [
    "## Table of Contents\n",
    "\n",
    "---\n",
    "\n",
    "* **[How to Get Started](#how-to-get-started)**\n",
    "    * Imports and Packages\n",
    "    \n",
    "* **[Setup Session Using Basemaps API](#setup-session)**\n",
    "    * Create session to access API\n",
    "    * Send request and check status code\n",
    "    \n",
    "* **[Access Mosaic Metadata](#mosaic-meta)**\n",
    "    * Further examine the json object\n",
    "    * Get id and bbox values from mosaic \n",
    "    \n",
    "* **[Search for Mosaic Quads Using Area of Interest](#search-quads)**\n",
    "    * Setup request for quads to basemaps API\n",
    "    * Quads metadata\n",
    "    \n",
    "* **[Download and Save Quads to Directory](#save-quads)**\n",
    "    * Iterate over quad download links and save as individual files\n",
    "\n",
    "* **[Conclusion](#conclusion)**"
   ]
  },
  {
   "cell_type": "markdown",
   "metadata": {},
   "source": [
    "<a name=\"how-to-get-started\"></a> \n",
    "## How To Get Started\n",
    "---\n",
    "Before we jump into downloading the quads, let's quickly review the required packages for utilizing this tutorial."
   ]
  },
  {
   "cell_type": "markdown",
   "metadata": {},
   "source": [
    "### Imports\n",
    "\n",
    "* requests\n",
    "* os\n",
    "* json\n",
    "* Your Planet API Key\n",
    "* urllib.request"
   ]
  },
  {
   "cell_type": "markdown",
   "metadata": {},
   "source": [
    "<a name=\"setup-session\"></a> \n",
    "## Setup Session Using Basemaps API\n",
    "---\n",
    "The first step is to setup a session to access the basemaps API. The basemaps API can be used to download full mosaics, or in our case, to download individual parts of the mosaic known as quads. "
   ]
  },
  {
   "cell_type": "markdown",
   "metadata": {},
   "source": [
    "### Create Session to Access API\n",
    "---\n",
    "In order to access the basemaps API, we need a Planet API key for successful authentication. In this case, the API key is saved to a config file and imported into the python script, but feel free to use your API key directly in the notebook if you are following along."
   ]
  },
  {
   "cell_type": "code",
   "execution_count": null,
   "metadata": {},
   "outputs": [],
   "source": [
    "import os\n",
    "import requests"
   ]
  },
  {
   "cell_type": "code",
   "execution_count": null,
   "metadata": {},
   "outputs": [],
   "source": [
    "# if your Planet API Key is not set as an environment variable, you can paste it below\n",
    "API_KEY = os.environ.get('PL_API_KEY', 'PASTE_API_KEY_HERE')\n",
    "\n",
    "# Setup Planet Data API base URL\n",
    "URL = \"https://api.planet.com/basemaps/v1/mosaics\"\n",
    "\n",
    "# Setup the session\n",
    "session = requests.Session()\n",
    "\n",
    "# Authenticate\n",
    "session.auth = (API_KEY, \"\")"
   ]
  },
  {
   "cell_type": "markdown",
   "metadata": {},
   "source": [
    "### Send Request and Check Status Code\n",
    "---\n",
    "When sending the request, we will provide one parameter. Assuming we know the name of the mosaic, we can include those details in the request to access the corresponding metadata. After sending the request, let's check the status code to ensure it was successful."
   ]
  },
  {
   "cell_type": "code",
   "execution_count": null,
   "metadata": {},
   "outputs": [],
   "source": [
    "#set params for search using name of mosaic\n",
    "parameters = {\n",
    "    \"name__is\" :\"nsw_ps_1month_date_ramp_L15_mosaic\" # <= customize to your use case\n",
    "}\n",
    "#make get request to access mosaic from basemaps API\n",
    "res = session.get(API_URL, params = parameters)\n",
    "#response status code\n",
    "print(res.status_code)"
   ]
  },
  {
   "cell_type": "markdown",
   "metadata": {},
   "source": [
    "<a name=\"mosaic-meta\"></a> \n",
    "## Access Mosaic MetaData\n",
    "---\n",
    "The metadata for each mosaic is necessary to access the quads. Specifically, we need to extract the mosaic id and bbox to search for the quads within our area of interest. In this tutorial we are using the AOI from the entire mosaic to download all quads, but those values can be customized for your use case.\n"
   ]
  },
  {
   "cell_type": "markdown",
   "metadata": {},
   "source": [
    "### Further Examine the JSON Object\n"
   ]
  },
  {
   "cell_type": "code",
   "execution_count": null,
   "metadata": {},
   "outputs": [],
   "source": [
    "import json\n",
    "\n",
    "#print metadata for mosaic\n",
    "mosaic = res.json()\n",
    "print(json.dumps(mosaic, indent=2))"
   ]
  },
  {
   "cell_type": "markdown",
   "metadata": {},
   "source": [
    "### Get ID and Bbox Values from Mosaic"
   ]
  },
  {
   "cell_type": "code",
   "execution_count": null,
   "metadata": {},
   "outputs": [],
   "source": [
    "#get id\n",
    "mosaic_id = mosaic['mosaics'][0]['id']\n",
    "#get bbox for entire mosaic\n",
    "mosaic_bbox = mosaic['mosaics'][0]['bbox']\n",
    "#converting bbox to string for search params\n",
    "string_bbox = ','.join(map(str, mosaic_bbox))\n",
    "\n",
    "print('Mosaic id: '+ mosaic_id)\n",
    "print('Mosaic bbox: '+ string_bbox)"
   ]
  },
  {
   "cell_type": "markdown",
   "metadata": {},
   "source": [
    "<a name=\"search-quads\"></a> \n",
    "## Search for Mosaic Quads using AOI\n",
    "---\n",
    "Now that we have the required metadata, we can send a request to the API for the mosaic's quads. Each quad comes with a download link that we use to save them to our local directory. "
   ]
  },
  {
   "cell_type": "markdown",
   "metadata": {},
   "source": [
    "### Setup Request for Quads to Basemaps API\n",
    "---\n",
    "We will provide two parameters, a string of bbox values and minimal set to \"True\". The bbox values are required to send the request. The minimal parameter is optional, but we included it because it hides the metadata we don't need for this use case. Lastly, we include the mosaic id in the request url to access quads for this specific mosaic."
   ]
  },
  {
   "cell_type": "code",
   "execution_count": null,
   "metadata": {},
   "outputs": [],
   "source": [
    "#search for mosaic quad using AOI\n",
    "search_parameters = {\n",
    "    'bbox': string_bbox,\n",
    "    'minimal': True\n",
    "}\n",
    "#accessing quads using metadata from mosaic\n",
    "quads_url = \"{}/{}/quads\".format(API_URL, mosaic_id)\n",
    "res = session.get(quads_url, params=search_parameters, stream=True)\n",
    "print(res.status_code)"
   ]
  },
  {
   "cell_type": "markdown",
   "metadata": {},
   "source": [
    "### Quads Metadata\n",
    "---\n",
    "The quad response object contains the download link and bbox values for each portion of the grid. Each quad also has a unique identifier which we will use to name the quads as we save them to our local directory."
   ]
  },
  {
   "cell_type": "code",
   "execution_count": null,
   "metadata": {},
   "outputs": [],
   "source": [
    "quads = res.json()\n",
    "items = quads['items']\n",
    "#printing an example of quad metadata\n",
    "print(json.dumps(items[0], indent=2))"
   ]
  },
  {
   "cell_type": "markdown",
   "metadata": {},
   "source": [
    "<a name=\"save-quads\"></a> \n",
    "\n",
    "## Download Quads to Local Directory\n",
    "---\n",
    "The final step to this tutorial is taking the download link from the metadata and saving those files to your local directory by id number. We do this by iterating over the json object and using urllib to retrieve the file via the download link."
   ]
  },
  {
   "cell_type": "code",
   "execution_count": null,
   "metadata": {},
   "outputs": [],
   "source": [
    "from urllib.request import urlopen\n",
    "from shutil import copyfileobj\n",
    "\n",
    "# Iterate over quad download links and saving to folder by id.\n",
    "# This may take quite some time. \n",
    "for i in items:\n",
    "    link = i['_links']['download']\n",
    "    # print (link)\n",
    "    name = i['id']\n",
    "    name = name + '.tiff'\n",
    "\n",
    "    with urlopen(link) as in_stream, open(name, 'wb') as out_file:\n",
    "        copyfileobj(in_stream, out_file)\n",
    "        print (name)"
   ]
  },
  {
   "cell_type": "markdown",
   "metadata": {},
   "source": [
    "## Conclusion\n",
    "---\n",
    "After a few simple steps, we now have a folder full of quads within our local directory. Check out our [Planet Basemaps API Documentation](https://developers.planet.com/docs/basemaps/reference/) to learn more. If you'd like to access the full .py script, follow this [link](download_quad.py).\n",
    "\n",
    "Questions or comments about this guide? Join the conversation at [Planet Community](https://community.planet.com/)."
   ]
  }
 ],
 "metadata": {
  "kernelspec": {
   "display_name": "Python 3 (ipykernel)",
   "language": "python",
   "name": "python3"
  },
  "language_info": {
   "codemirror_mode": {
    "name": "ipython",
    "version": 3
   },
   "file_extension": ".py",
   "mimetype": "text/x-python",
   "name": "python",
   "nbconvert_exporter": "python",
   "pygments_lexer": "ipython3",
   "version": "3.9.12"
  }
 },
 "nbformat": 4,
 "nbformat_minor": 4
}
